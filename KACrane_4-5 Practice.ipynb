{
 "cells": [
  {
   "cell_type": "code",
   "execution_count": 41,
   "metadata": {},
   "outputs": [],
   "source": [
    "%matplotlib inline\n",
    "import matplotlib.pyplot as plt\n",
    "\n",
    "import numpy as np\n",
    "import pandas as pd\n",
    "\n",
    "import astropy.units as u\n",
    "from astropy.time import Time\n",
    "\n",
    "import pytz\n",
    "\n",
    "from astropy.coordinates import SkyCoord\n",
    "from astroplan import Observer, FixedTarget\n",
    "\n",
    "from astroplan import time_grid_from_range\n",
    "\n",
    "from astroplan.plots import plot_airmass"
   ]
  },
  {
   "cell_type": "code",
   "execution_count": 2,
   "metadata": {},
   "outputs": [],
   "source": [
    "from astroplan import download_IERS_A\n",
    "download_IERS_A()"
   ]
  },
  {
   "cell_type": "code",
   "execution_count": 44,
   "metadata": {},
   "outputs": [],
   "source": [
    "apo = Observer(latitude = 32.780278 * u.deg,\n",
    "                      longitude = -105.820278 * u.deg ,\n",
    "                      elevation = 2788 * u.m,\n",
    "                      timezone = \"US/Mountain\",\n",
    "                      name = \"Apache Point Observatory\"\n",
    "                      )\n",
    "\n",
    "m31 = FixedTarget.from_name(\"m31\")\n",
    "# M31 has an RA of 10.68 deg, or 0.71 hr, so best observation when Sun's RA is 0.71+12=12.71 hr\n",
    "# This occurs in Autumn"
   ]
  },
  {
   "cell_type": "code",
   "execution_count": 45,
   "metadata": {},
   "outputs": [
    {
     "data": {
      "text/latex": [
       "$8.109805 \\; \\mathrm{h}$"
      ],
      "text/plain": [
       "<Quantity 8.10980503 h>"
      ]
     },
     "execution_count": 45,
     "metadata": {},
     "output_type": "execute_result"
    }
   ],
   "source": [
    "reference_time = Time(\"2019-04-16 00:00:00\")\n",
    "\n",
    "astro_set = apo.twilight_evening_astronomical(reference_time, which='next')\n",
    "astro_rise = apo.twilight_morning_astronomical(reference_time, which='next')\n",
    "\n",
    "(astro_rise - astro_set).to(u.h)"
   ]
  },
  {
   "cell_type": "code",
   "execution_count": 47,
   "metadata": {},
   "outputs": [
    {
     "name": "stdout",
     "output_type": "stream",
     "text": [
      "2019-12-31 12:37:26.576831\n",
      "2020-01-01 01:35:11.893983\n",
      "2019-12-31 18:02:29.640709\n",
      "2020-01-01 05:20:44.109540\n"
     ]
    }
   ],
   "source": [
    "dec31 = Time(\"2019-12-31 12:00:00\")\n",
    "\n",
    "astro_set2 = apo.twilight_evening_astronomical(dec31, which='next')\n",
    "astro_rise2 = apo.twilight_morning_astronomical(dec31, which='next')\n",
    "\n",
    "moonrise = apo.moon_rise_time(dec31, which='next')\n",
    "moonset = apo.moon_set_time(dec31, which='next')\n",
    "\n",
    "\n",
    "\n",
    "print(astro_rise2.to_datetime())\n",
    "print(astro_set2.to_datetime())\n",
    "\n",
    "print(moonrise.to_datetime())\n",
    "print(moonset.to_datetime())"
   ]
  },
  {
   "cell_type": "code",
   "execution_count": 54,
   "metadata": {},
   "outputs": [
    {
     "data": {
      "text/latex": [
       "$2.0784992 \\; \\mathrm{rad}$"
      ],
      "text/plain": [
       "<Quantity 2.0784992 rad>"
      ]
     },
     "execution_count": 54,
     "metadata": {},
     "output_type": "execute_result"
    }
   ],
   "source": [
    "apo.moon_phase(time=dec31)"
   ]
  },
  {
   "cell_type": "code",
   "execution_count": 48,
   "metadata": {},
   "outputs": [
    {
     "name": "stdout",
     "output_type": "stream",
     "text": [
      "2019-12-31 16:49:33.170\n",
      "2020-01-01 09:23:22.493\n"
     ]
    }
   ],
   "source": [
    "m31rise = apo.target_rise_time(dec31, m31, which=\"next\").iso\n",
    "m31set = apo.target_set_time(dec31, m31, which=\"next\").iso\n",
    "\n",
    "print(m31rise)\n",
    "print(m31set)"
   ]
  },
  {
   "cell_type": "code",
   "execution_count": 52,
   "metadata": {},
   "outputs": [
    {
     "data": {
      "image/png": "[encoded data removed]",
      "text/plain": [
       "<Figure size 432x288 with 1 Axes>"
      ]
     },
     "metadata": {
      "needs_background": "light"
     },
     "output_type": "display_data"
    }
   ],
   "source": [
    "observing_range = [astro_rise2, astro_set2]\n",
    "\n",
    "time_grid = time_grid_from_range(observing_range)\n",
    "\n",
    "plot_airmass(m31, apo, time_grid);"
   ]
  },
  {
   "cell_type": "code",
   "execution_count": null,
   "metadata": {},
   "outputs": [],
   "source": []
  },
  {
   "cell_type": "code",
   "execution_count": null,
   "metadata": {},
   "outputs": [],
   "source": []
  }
 ],
 "metadata": {
  "kernelspec": {
   "display_name": "Python 3",
   "language": "python",
   "name": "python3"
  },
  "language_info": {
   "codemirror_mode": {
    "name": "ipython",
    "version": 3
   },
   "file_extension": ".py",
   "mimetype": "text/x-python",
   "name": "python",
   "nbconvert_exporter": "python",
   "pygments_lexer": "ipython3",
   "version": "3.7.1"
  }
 },
 "nbformat": 4,
 "nbformat_minor": 2
}
